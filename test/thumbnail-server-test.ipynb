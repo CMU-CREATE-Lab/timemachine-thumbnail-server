{
 "metadata": {
  "name": "",
  "signature": "sha256:a54e885aefa5de734140faa28f27053cc58d446d1a98583ac2d4b3a611e224fe"
 },
 "nbformat": 3,
 "nbformat_minor": 0,
 "worksheets": [
  {
   "cells": [
    {
     "cell_type": "code",
     "collapsed": false,
     "input": [
      "import os, re, subprocess, urllib2"
     ],
     "language": "python",
     "metadata": {},
     "outputs": [],
     "prompt_number": 8
    },
    {
     "cell_type": "code",
     "collapsed": false,
     "input": [
      "def test_thumbnail(spec, reference_name):\n",
      "    computed_dir = 'temp-computed'\n",
      "    try:\n",
      "        os.mkdir(computed_dir)\n",
      "    except OSError:\n",
      "        pass\n",
      "\n",
      "    computed_path = computed_dir + '/' + reference_name\n",
      "    reference_path = 'reference/' + reference_name\n",
      "\n",
      "    print 'Comparing %s with %s...' % (reference_path, spec)\n",
      "    thumbnail_cmd = ['../thumbnail-server.rb', spec]\n",
      "    computed_image = subprocess.check_output(thumbnail_cmd)\n",
      "\n",
      "    open(computed_path,'wb').write(computed_image)\n",
      "    # Is it really an image?\n",
      "    if subprocess.call(['identify', computed_path]):\n",
      "        print 'Error creating thumbnail (%s):' % (' '.join(thumbnail_cmd))\n",
      "        print computed_image\n",
      "        return False\n",
      "\n",
      "    if os.path.exists(reference_path):\n",
      "        command = ['compare', '-metric', 'RMSE', computed_path, reference_path, 'null:']\n",
      "        p = subprocess.Popen(command, stdout=subprocess.PIPE, stderr=subprocess.PIPE)\n",
      "        (stdout, stderr) = p.communicate()\n",
      "        status = p.wait()\n",
      "        rmse = float(re.search(r'\\((.*)\\)', stderr).group(1))\n",
      "        if rmse > 0.001:\n",
      "            print 'Failed with rmse = %g' % rmse\n",
      "            return False\n",
      "        print 'Succeeded with rmse = %g' % rmse\n",
      "        return True\n",
      "    else:\n",
      "        print 'Failed because %s does not exist.  If you want to copy computed to it, type' % reference_path\n",
      "        print 'mv %s %s' % (computed_path, reference_path)\n",
      "        return False"
     ],
     "language": "python",
     "metadata": {},
     "outputs": [],
     "prompt_number": 44
    },
    {
     "cell_type": "code",
     "collapsed": false,
     "input": [
      "def test_vegas(frametime, frameno):\n",
      "    spec = 'root=http://earthengine.google.org/timelapse/data/20130507/&boundsLTRB=239789.4575441497,523876.80428915547,240835.17182986398,524469.1852415365&width=640&frameTime=%g&format=png' % frametime\n",
      "    reference_name = 'vegas%02d.png' % frameno\n",
      "    test_thumbnail(spec, reference_name)\n",
      "\n",
      "# Test beginning of video\n",
      "test_vegas(frametime = 0.0, frameno = 0)\n",
      "test_vegas(frametime = 0.09, frameno = 0)\n",
      "\n",
      "# Test centers of frames 0 to 28, inclusive\n",
      "for frameno in range(0, 29):\n",
      "    test_vegas(frametime=(frameno * 0.1 + 0.05), frameno=frameno)\n",
      "    \n",
      "# Test end of video\n",
      "test_vegas(frametime = 2.8, frameno = 28)\n",
      "test_vegas(frametime = 2.89, frameno = 28)"
     ],
     "language": "python",
     "metadata": {},
     "outputs": [
      {
       "output_type": "stream",
       "stream": "stdout",
       "text": [
        "Comparing reference/vegas00.png with root=http://earthengine.google.org/timelapse/data/20130507/&boundsLTRB=239789.4575441497,523876.80428915547,240835.17182986398,524469.1852415365&width=640&frameTime=0&format=png...\n",
        "Succeeded with rmse = 0"
       ]
      },
      {
       "output_type": "stream",
       "stream": "stdout",
       "text": [
        "\n",
        "Comparing reference/vegas00.png with root=http://earthengine.google.org/timelapse/data/20130507/&boundsLTRB=239789.4575441497,523876.80428915547,240835.17182986398,524469.1852415365&width=640&frameTime=0.09&format=png...\n",
        "Succeeded with rmse = 0"
       ]
      },
      {
       "output_type": "stream",
       "stream": "stdout",
       "text": [
        "\n",
        "Comparing reference/vegas00.png with root=http://earthengine.google.org/timelapse/data/20130507/&boundsLTRB=239789.4575441497,523876.80428915547,240835.17182986398,524469.1852415365&width=640&frameTime=0.05&format=png...\n",
        "Succeeded with rmse = 0"
       ]
      },
      {
       "output_type": "stream",
       "stream": "stdout",
       "text": [
        "\n",
        "Comparing reference/vegas01.png with root=http://earthengine.google.org/timelapse/data/20130507/&boundsLTRB=239789.4575441497,523876.80428915547,240835.17182986398,524469.1852415365&width=640&frameTime=0.15&format=png...\n",
        "Succeeded with rmse = 0"
       ]
      },
      {
       "output_type": "stream",
       "stream": "stdout",
       "text": [
        "\n",
        "Comparing reference/vegas02.png with root=http://earthengine.google.org/timelapse/data/20130507/&boundsLTRB=239789.4575441497,523876.80428915547,240835.17182986398,524469.1852415365&width=640&frameTime=0.25&format=png...\n",
        "Succeeded with rmse = 0"
       ]
      },
      {
       "output_type": "stream",
       "stream": "stdout",
       "text": [
        "\n",
        "Comparing reference/vegas03.png with root=http://earthengine.google.org/timelapse/data/20130507/&boundsLTRB=239789.4575441497,523876.80428915547,240835.17182986398,524469.1852415365&width=640&frameTime=0.35&format=png...\n",
        "Succeeded with rmse = 0"
       ]
      },
      {
       "output_type": "stream",
       "stream": "stdout",
       "text": [
        "\n",
        "Comparing reference/vegas04.png with root=http://earthengine.google.org/timelapse/data/20130507/&boundsLTRB=239789.4575441497,523876.80428915547,240835.17182986398,524469.1852415365&width=640&frameTime=0.45&format=png...\n",
        "Succeeded with rmse = 0"
       ]
      },
      {
       "output_type": "stream",
       "stream": "stdout",
       "text": [
        "\n",
        "Comparing reference/vegas05.png with root=http://earthengine.google.org/timelapse/data/20130507/&boundsLTRB=239789.4575441497,523876.80428915547,240835.17182986398,524469.1852415365&width=640&frameTime=0.55&format=png...\n",
        "Succeeded with rmse = 0"
       ]
      },
      {
       "output_type": "stream",
       "stream": "stdout",
       "text": [
        "\n",
        "Comparing reference/vegas06.png with root=http://earthengine.google.org/timelapse/data/20130507/&boundsLTRB=239789.4575441497,523876.80428915547,240835.17182986398,524469.1852415365&width=640&frameTime=0.65&format=png...\n",
        "Succeeded with rmse = 0"
       ]
      },
      {
       "output_type": "stream",
       "stream": "stdout",
       "text": [
        "\n",
        "Comparing reference/vegas07.png with root=http://earthengine.google.org/timelapse/data/20130507/&boundsLTRB=239789.4575441497,523876.80428915547,240835.17182986398,524469.1852415365&width=640&frameTime=0.75&format=png...\n",
        "Succeeded with rmse = 0"
       ]
      },
      {
       "output_type": "stream",
       "stream": "stdout",
       "text": [
        "\n",
        "Comparing reference/vegas08.png with root=http://earthengine.google.org/timelapse/data/20130507/&boundsLTRB=239789.4575441497,523876.80428915547,240835.17182986398,524469.1852415365&width=640&frameTime=0.85&format=png...\n",
        "Succeeded with rmse = 0"
       ]
      },
      {
       "output_type": "stream",
       "stream": "stdout",
       "text": [
        "\n",
        "Comparing reference/vegas09.png with root=http://earthengine.google.org/timelapse/data/20130507/&boundsLTRB=239789.4575441497,523876.80428915547,240835.17182986398,524469.1852415365&width=640&frameTime=0.95&format=png...\n",
        "Succeeded with rmse = 0"
       ]
      },
      {
       "output_type": "stream",
       "stream": "stdout",
       "text": [
        "\n",
        "Comparing reference/vegas10.png with root=http://earthengine.google.org/timelapse/data/20130507/&boundsLTRB=239789.4575441497,523876.80428915547,240835.17182986398,524469.1852415365&width=640&frameTime=1.05&format=png...\n",
        "Succeeded with rmse = 0"
       ]
      },
      {
       "output_type": "stream",
       "stream": "stdout",
       "text": [
        "\n",
        "Comparing reference/vegas11.png with root=http://earthengine.google.org/timelapse/data/20130507/&boundsLTRB=239789.4575441497,523876.80428915547,240835.17182986398,524469.1852415365&width=640&frameTime=1.15&format=png...\n",
        "Succeeded with rmse = 0"
       ]
      },
      {
       "output_type": "stream",
       "stream": "stdout",
       "text": [
        "\n",
        "Comparing reference/vegas12.png with root=http://earthengine.google.org/timelapse/data/20130507/&boundsLTRB=239789.4575441497,523876.80428915547,240835.17182986398,524469.1852415365&width=640&frameTime=1.25&format=png...\n",
        "Succeeded with rmse = 0"
       ]
      },
      {
       "output_type": "stream",
       "stream": "stdout",
       "text": [
        "\n",
        "Comparing reference/vegas13.png with root=http://earthengine.google.org/timelapse/data/20130507/&boundsLTRB=239789.4575441497,523876.80428915547,240835.17182986398,524469.1852415365&width=640&frameTime=1.35&format=png...\n",
        "Succeeded with rmse = 0"
       ]
      },
      {
       "output_type": "stream",
       "stream": "stdout",
       "text": [
        "\n",
        "Comparing reference/vegas14.png with root=http://earthengine.google.org/timelapse/data/20130507/&boundsLTRB=239789.4575441497,523876.80428915547,240835.17182986398,524469.1852415365&width=640&frameTime=1.45&format=png...\n",
        "Succeeded with rmse = 0"
       ]
      },
      {
       "output_type": "stream",
       "stream": "stdout",
       "text": [
        "\n",
        "Comparing reference/vegas15.png with root=http://earthengine.google.org/timelapse/data/20130507/&boundsLTRB=239789.4575441497,523876.80428915547,240835.17182986398,524469.1852415365&width=640&frameTime=1.55&format=png...\n",
        "Succeeded with rmse = 0"
       ]
      },
      {
       "output_type": "stream",
       "stream": "stdout",
       "text": [
        "\n",
        "Comparing reference/vegas16.png with root=http://earthengine.google.org/timelapse/data/20130507/&boundsLTRB=239789.4575441497,523876.80428915547,240835.17182986398,524469.1852415365&width=640&frameTime=1.65&format=png...\n",
        "Succeeded with rmse = 0"
       ]
      },
      {
       "output_type": "stream",
       "stream": "stdout",
       "text": [
        "\n",
        "Comparing reference/vegas17.png with root=http://earthengine.google.org/timelapse/data/20130507/&boundsLTRB=239789.4575441497,523876.80428915547,240835.17182986398,524469.1852415365&width=640&frameTime=1.75&format=png...\n",
        "Succeeded with rmse = 0"
       ]
      },
      {
       "output_type": "stream",
       "stream": "stdout",
       "text": [
        "\n",
        "Comparing reference/vegas18.png with root=http://earthengine.google.org/timelapse/data/20130507/&boundsLTRB=239789.4575441497,523876.80428915547,240835.17182986398,524469.1852415365&width=640&frameTime=1.85&format=png...\n",
        "Succeeded with rmse = 0"
       ]
      },
      {
       "output_type": "stream",
       "stream": "stdout",
       "text": [
        "\n",
        "Comparing reference/vegas19.png with root=http://earthengine.google.org/timelapse/data/20130507/&boundsLTRB=239789.4575441497,523876.80428915547,240835.17182986398,524469.1852415365&width=640&frameTime=1.95&format=png...\n",
        "Succeeded with rmse = 0"
       ]
      },
      {
       "output_type": "stream",
       "stream": "stdout",
       "text": [
        "\n",
        "Comparing reference/vegas20.png with root=http://earthengine.google.org/timelapse/data/20130507/&boundsLTRB=239789.4575441497,523876.80428915547,240835.17182986398,524469.1852415365&width=640&frameTime=2.05&format=png...\n",
        "Succeeded with rmse = 0"
       ]
      },
      {
       "output_type": "stream",
       "stream": "stdout",
       "text": [
        "\n",
        "Comparing reference/vegas21.png with root=http://earthengine.google.org/timelapse/data/20130507/&boundsLTRB=239789.4575441497,523876.80428915547,240835.17182986398,524469.1852415365&width=640&frameTime=2.15&format=png...\n",
        "Succeeded with rmse = 0"
       ]
      },
      {
       "output_type": "stream",
       "stream": "stdout",
       "text": [
        "\n",
        "Comparing reference/vegas22.png with root=http://earthengine.google.org/timelapse/data/20130507/&boundsLTRB=239789.4575441497,523876.80428915547,240835.17182986398,524469.1852415365&width=640&frameTime=2.25&format=png...\n",
        "Succeeded with rmse = 0"
       ]
      },
      {
       "output_type": "stream",
       "stream": "stdout",
       "text": [
        "\n",
        "Comparing reference/vegas23.png with root=http://earthengine.google.org/timelapse/data/20130507/&boundsLTRB=239789.4575441497,523876.80428915547,240835.17182986398,524469.1852415365&width=640&frameTime=2.35&format=png...\n",
        "Succeeded with rmse = 0"
       ]
      },
      {
       "output_type": "stream",
       "stream": "stdout",
       "text": [
        "\n",
        "Comparing reference/vegas24.png with root=http://earthengine.google.org/timelapse/data/20130507/&boundsLTRB=239789.4575441497,523876.80428915547,240835.17182986398,524469.1852415365&width=640&frameTime=2.45&format=png...\n",
        "Succeeded with rmse = 0"
       ]
      },
      {
       "output_type": "stream",
       "stream": "stdout",
       "text": [
        "\n",
        "Comparing reference/vegas25.png with root=http://earthengine.google.org/timelapse/data/20130507/&boundsLTRB=239789.4575441497,523876.80428915547,240835.17182986398,524469.1852415365&width=640&frameTime=2.55&format=png...\n",
        "Succeeded with rmse = 0"
       ]
      },
      {
       "output_type": "stream",
       "stream": "stdout",
       "text": [
        "\n",
        "Comparing reference/vegas26.png with root=http://earthengine.google.org/timelapse/data/20130507/&boundsLTRB=239789.4575441497,523876.80428915547,240835.17182986398,524469.1852415365&width=640&frameTime=2.65&format=png...\n",
        "Succeeded with rmse = 0"
       ]
      },
      {
       "output_type": "stream",
       "stream": "stdout",
       "text": [
        "\n",
        "Comparing reference/vegas27.png with root=http://earthengine.google.org/timelapse/data/20130507/&boundsLTRB=239789.4575441497,523876.80428915547,240835.17182986398,524469.1852415365&width=640&frameTime=2.75&format=png...\n",
        "Succeeded with rmse = 0"
       ]
      },
      {
       "output_type": "stream",
       "stream": "stdout",
       "text": [
        "\n",
        "Comparing reference/vegas28.png with root=http://earthengine.google.org/timelapse/data/20130507/&boundsLTRB=239789.4575441497,523876.80428915547,240835.17182986398,524469.1852415365&width=640&frameTime=2.85&format=png...\n",
        "Succeeded with rmse = 0"
       ]
      },
      {
       "output_type": "stream",
       "stream": "stdout",
       "text": [
        "\n",
        "Comparing reference/vegas28.png with root=http://earthengine.google.org/timelapse/data/20130507/&boundsLTRB=239789.4575441497,523876.80428915547,240835.17182986398,524469.1852415365&width=640&frameTime=2.8&format=png...\n",
        "Succeeded with rmse = 0"
       ]
      },
      {
       "output_type": "stream",
       "stream": "stdout",
       "text": [
        "\n",
        "Comparing reference/vegas28.png with root=http://earthengine.google.org/timelapse/data/20130507/&boundsLTRB=239789.4575441497,523876.80428915547,240835.17182986398,524469.1852415365&width=640&frameTime=2.89&format=png...\n",
        "Succeeded with rmse = 0"
       ]
      },
      {
       "output_type": "stream",
       "stream": "stdout",
       "text": [
        "\n"
       ]
      }
     ],
     "prompt_number": 85
    },
    {
     "cell_type": "code",
     "collapsed": false,
     "input": [],
     "language": "python",
     "metadata": {},
     "outputs": []
    }
   ],
   "metadata": {}
  }
 ]
}