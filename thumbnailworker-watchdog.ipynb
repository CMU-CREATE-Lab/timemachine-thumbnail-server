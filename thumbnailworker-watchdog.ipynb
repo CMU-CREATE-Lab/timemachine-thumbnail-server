{
 "cells": [
  {
   "cell_type": "code",
   "execution_count": 29,
   "metadata": {},
   "outputs": [
    {
     "data": {
      "text/html": [
       "<style>#notebook-container { margin-left:-14px; width:calc(100% + 27px) !important; }</style>"
      ],
      "text/plain": [
       "<IPython.core.display.HTML object>"
      ]
     },
     "metadata": {},
     "output_type": "display_data"
    }
   ],
   "source": [
    "# Boilerplate to load utils.ipynb\n",
    "# See https://github.com/CMU-CREATE-Lab/python-utils/blob/master/utils.ipynb\n",
    "\n",
    "import concurrent.futures, json, os, re, requests, subprocess\n",
    "\n",
    "if not os.path.exists('python-utils'):\n",
    "    subprocess.check_output('git clone https://github.com/CMU-CREATE-Lab/python-utils.git', shell=True)\n",
    "\n",
    "def exec_ipynb(filename_or_url):\n",
    "    nb = (requests.get(filename_or_url).json() if re.match(r'https?:', filename_or_url) else json.load(open(filename_or_url)))\n",
    "    if(nb['nbformat'] >= 4):\n",
    "        src = [''.join(cell['source']) for cell in nb['cells'] if cell['cell_type'] == 'code']\n",
    "    else:\n",
    "        src = [''.join(cell['input']) for cell in nb['worksheets'][0]['cells'] if cell['cell_type'] == 'code']\n",
    "    exec('\\n'.join(src), globals())\n",
    "\n",
    "exec_ipynb('python-utils/utils.ipynb')\n",
    "notebook_wide_display()"
   ]
  },
  {
   "cell_type": "code",
   "execution_count": 30,
   "metadata": {},
   "outputs": [],
   "source": [
    "import os, psutil, subprocess"
   ]
  },
  {
   "cell_type": "code",
   "execution_count": 31,
   "metadata": {},
   "outputs": [],
   "source": [
    "def error(msg):\n",
    "    global errors\n",
    "    Stat.log('ThumbnailWorker', 'critical', msg)\n",
    "    errors.append(msg)\n",
    "    \n",
    "def reportStatus():\n",
    "    if len(errors):\n",
    "        Stat.log('ThumbnailWorker', 'down', 'Failed %d health checks' % len(errors), details=(' | '.join(errors)))\n",
    "    else:\n",
    "        Stat.log('ThumbnailWorker', 'up', 'Passed all health checks')\n",
    "        \n",
    "def warning(msg):\n",
    "    Stat.log('ThumbnailWorker', 'warning', msg)\n",
    "    \n",
    "def clearErrors():\n",
    "    global errors\n",
    "    errors = []\n",
    "\n",
    "loadAvgMax = 50\n",
    "\n",
    "def checkLoadAvgMax():\n",
    "    (load1m, load5m, load15m) = os.getloadavg()\n",
    "    if load5m > loadAvgMax:\n",
    "        error('Load avg %.1f (test > %.1f)' % (load5m, loadAvgMax))\n",
    "\n",
    "cpuMax = 90 # % of all CPU (i.e. 100=all cores at full utilization)\n",
    "\n",
    "def checkCPUMax():\n",
    "    cpu = psutil.cpu_percent(3)\n",
    "    if cpu > cpuMax:\n",
    "        error('CPU usage %d%% (test > %d%%)' % (cpu, cpuMax))        \n",
    "        \n",
    "maxDiskUsage = 95\n",
    "\n",
    "def checkDiskUsage():\n",
    "    dfCommand = 'df -l --print-type --exclude-type=tmpfs --exclude-type=devtmpfs'\n",
    "    filesystems = subprocess.check_output(dfCommand, shell=True).decode('utf8').split('\\n')[1:]\n",
    "\n",
    "    for filesystem in filesystems:\n",
    "        fields = filesystem.split()\n",
    "        if not len(fields):\n",
    "            continue\n",
    "        diskUsage = int(fields[-2][:-1])\n",
    "        if diskUsage > maxDiskUsage:\n",
    "            mountPoint = fields[-1]\n",
    "            error('%s is %d%% full (test > %d%%)' % (mountPoint, diskUsage, maxDiskUsage))"
   ]
  },
  {
   "cell_type": "code",
   "execution_count": 32,
   "metadata": {},
   "outputs": [],
   "source": [
    "maxChromedriverCount = 6\n",
    "\n",
    "def checkChromedriver(p):\n",
    "    if p.ppid() == 1:\n",
    "        warning('Killing chromedriver pid=%d because process has no parent' % p.pid)\n",
    "        try:\n",
    "            p.kill()\n",
    "        except psutil.AccessDenied:\n",
    "            error('Insufficient permission to kill chromdriver pid=%d' % p.pid)\n",
    "    else:\n",
    "        parentName = psutil.Process(p.ppid()).name()\n",
    "        if parentName != 'ruby':\n",
    "            error('chromedriver pid=%d has unknown parent process pid=%d name=%s' % (p.pid, p.ppid(), parentName))\n",
    "\n",
    "def checkChromedrivers():\n",
    "    for p in psutil.process_iter():\n",
    "        if p.name() == 'chromedriver':\n",
    "            checkChromedriver(p)\n",
    "            \n",
    "    time.sleep(5) # wait for killed processes (if any) to die\n",
    "    \n",
    "    chromedriverCount = 0\n",
    "    for p in psutil.process_iter():\n",
    "        if p.name() == 'chromedriver':\n",
    "            chromedriverCount += 1\n",
    "    \n",
    "    if chromedriverCount > maxChromedriverCount:\n",
    "        error('%d chromedrivers running (test > %d)' % (chromedriverCount, maxChromedriverCount))\n"
   ]
  },
  {
   "cell_type": "code",
   "execution_count": 33,
   "metadata": {},
   "outputs": [],
   "source": [
    "def checkChrome(p):\n",
    "    if p.ppid() == 1 and '--headless' in ' '.join(p.cmdline()):\n",
    "        warning('Killing headless chrome pid=%d because process has no parent' % p.pid)\n",
    "        try:\n",
    "            p.kill()\n",
    "        except psutil.AccessDenied:\n",
    "            error('Insufficient permission to kill chrome pid=%d' % p.pid)\n",
    "\n",
    "def checkChromes():\n",
    "    for p in psutil.process_iter():\n",
    "        if p.name() == 'chrome':\n",
    "            checkChrome(p)"
   ]
  },
  {
   "cell_type": "code",
   "execution_count": 34,
   "metadata": {},
   "outputs": [],
   "source": [
    "def checkAll():\n",
    "    clearErrors()\n",
    "    checkLoadAvgMax()\n",
    "    checkCPUMax()\n",
    "    checkDiskUsage()\n",
    "    checkChromedrivers()\n",
    "    checkChromes()\n",
    "    reportStatus()"
   ]
  },
  {
   "cell_type": "code",
   "execution_count": 27,
   "metadata": {},
   "outputs": [
    {
     "name": "stdout",
     "output_type": "stream",
     "text": [
      "sleep_until_next_period(60, 0) sleeping 55 seconds until 19:37:00\n"
     ]
    },
    {
     "ename": "KeyboardInterrupt",
     "evalue": "",
     "output_type": "error",
     "traceback": [
      "\u001b[0;31m---------------------------------------------------------------------------\u001b[0m",
      "\u001b[0;31mKeyboardInterrupt\u001b[0m                         Traceback (most recent call last)",
      "\u001b[0;32m<ipython-input-27-a19cfdd9619c>\u001b[0m in \u001b[0;36m<module>\u001b[0;34m()\u001b[0m\n\u001b[1;32m      1\u001b[0m \u001b[0;32mwhile\u001b[0m \u001b[0;32mTrue\u001b[0m\u001b[0;34m:\u001b[0m\u001b[0;34m\u001b[0m\u001b[0m\n\u001b[0;32m----> 2\u001b[0;31m     \u001b[0msleep_until_next_period\u001b[0m\u001b[0;34m(\u001b[0m\u001b[0;36m60\u001b[0m\u001b[0;34m)\u001b[0m\u001b[0;34m\u001b[0m\u001b[0m\n\u001b[0m\u001b[1;32m      3\u001b[0m     \u001b[0mcheckAll\u001b[0m\u001b[0;34m(\u001b[0m\u001b[0;34m)\u001b[0m\u001b[0;34m\u001b[0m\u001b[0m\n",
      "\u001b[0;32m<string>\u001b[0m in \u001b[0;36msleep_until_next_period\u001b[0;34m(period, offset)\u001b[0m\n",
      "\u001b[0;31mKeyboardInterrupt\u001b[0m: "
     ]
    }
   ],
   "source": [
    "while True:\n",
    "    sleep_until_next_period(60)\n",
    "    checkAll()    "
   ]
  }
 ],
 "metadata": {
  "kernelspec": {
   "display_name": "Python 3",
   "language": "python",
   "name": "python3"
  },
  "language_info": {
   "codemirror_mode": {
    "name": "ipython",
    "version": 3
   },
   "file_extension": ".py",
   "mimetype": "text/x-python",
   "name": "python",
   "nbconvert_exporter": "python",
   "pygments_lexer": "ipython3",
   "version": "3.7.0"
  }
 },
 "nbformat": 4,
 "nbformat_minor": 2
}
