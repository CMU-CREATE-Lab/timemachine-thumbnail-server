{
 "cells": [
  {
   "cell_type": "code",
   "execution_count": 20,
   "metadata": {},
   "outputs": [
    {
     "data": {
      "text/html": [
       "<style>#notebook-container { margin-left:-14px; width:calc(100% + 27px) !important; }</style>"
      ],
      "text/plain": [
       "<IPython.core.display.HTML object>"
      ]
     },
     "metadata": {},
     "output_type": "display_data"
    }
   ],
   "source": [
    "# Boilerplate to load utils.ipynb\n",
    "# See https://github.com/CMU-CREATE-Lab/python-utils/blob/master/utils.ipynb\n",
    "\n",
    "import concurrent.futures, json, os, re, requests, subprocess\n",
    "\n",
    "if not os.path.exists('python-utils'):\n",
    "    subprocess.check_output('git clone https://github.com/CMU-CREATE-Lab/python-utils.git', shell=True)\n",
    "\n",
    "def exec_ipynb(filename_or_url):\n",
    "    nb = (requests.get(filename_or_url).json() if re.match(r'https?:', filename_or_url) else json.load(open(filename_or_url)))\n",
    "    if(nb['nbformat'] >= 4):\n",
    "        src = [''.join(cell['source']) for cell in nb['cells'] if cell['cell_type'] == 'code']\n",
    "    else:\n",
    "        src = [''.join(cell['input']) for cell in nb['worksheets'][0]['cells'] if cell['cell_type'] == 'code']\n",
    "    exec('\\n'.join(src), globals())\n",
    "\n",
    "exec_ipynb('python-utils/utils.ipynb')\n",
    "notebook_wide_display()"
   ]
  },
  {
   "cell_type": "code",
   "execution_count": 21,
   "metadata": {},
   "outputs": [],
   "source": [
    "import os, psutil, subprocess"
   ]
  },
  {
   "cell_type": "code",
   "execution_count": 22,
   "metadata": {},
   "outputs": [],
   "source": [
    "def error(msg):\n",
    "    global errors\n",
    "    Stat.log('ThumbnailWorker', 'critical', msg)\n",
    "    errors.append(msg)\n",
    "    \n",
    "def reportStatus():\n",
    "    if len(errors):\n",
    "        Stat.log('ThumbnailWorker', 'down', 'Failed %d health checks' % len(errors), details=(' | '.join(errors)))\n",
    "    else:\n",
    "        Stat.log('ThumbnailWorker', 'up', 'Healthy, %d thumbnails running, load %.1f, CPU %d%%' % (cgiCount, os.getloadavg()[1], psutil.cpu_percent(3)))\n",
    "        \n",
    "def warning(msg):\n",
    "    Stat.log('ThumbnailWorker', 'warning', msg)\n",
    "    \n",
    "def clearErrors():\n",
    "    global errors\n",
    "    errors = []\n",
    "\n",
    "loadAvgMax = 50\n",
    "\n",
    "def checkLoadAvgMax():\n",
    "    (load1m, load5m, load15m) = os.getloadavg()\n",
    "    if load5m > loadAvgMax:\n",
    "        error('Load avg %.1f (test > %.1f)' % (load5m, loadAvgMax))\n",
    "\n",
    "cpuMax = 90 # % of all CPU (i.e. 100=all cores at full utilization)\n",
    "\n",
    "def checkCPUMax():\n",
    "    cpu = psutil.cpu_percent(3)\n",
    "    if cpu > cpuMax:\n",
    "        error('CPU usage %d%% (test > %d%%)' % (cpu, cpuMax))        \n",
    "        \n",
    "maxDiskUsage = 95\n",
    "\n",
    "def checkDiskUsage():\n",
    "    dfCommand = 'df -l --print-type --exclude-type=tmpfs --exclude-type=devtmpfs'\n",
    "    filesystems = subprocess.check_output(dfCommand, shell=True).decode('utf8').split('\\n')[1:]\n",
    "\n",
    "    for filesystem in filesystems:\n",
    "        fields = filesystem.split()\n",
    "        if not len(fields):\n",
    "            continue\n",
    "        diskUsage = int(fields[-2][:-1])\n",
    "        if diskUsage > maxDiskUsage:\n",
    "            mountPoint = fields[-1]\n",
    "            error('%s is %d%% full (test > %d%%)' % (mountPoint, diskUsage, maxDiskUsage))"
   ]
  },
  {
   "cell_type": "code",
   "execution_count": 23,
   "metadata": {},
   "outputs": [],
   "source": [
    "def checkCGIs():\n",
    "    global cgiCount\n",
    "    cgiCount = 0\n",
    "    maxAge = 20 * 60 # 20 minutes\n",
    "    for p in psutil.process_iter():\n",
    "        cmdline = ' '.join(p.cmdline())\n",
    "        if 'ruby' in cmdline and '/thumbnail-server.rb' in cmdline:\n",
    "            age = time.time() - p.create_time()\n",
    "            if age <= maxAge:\n",
    "                cgiCount += 1\n",
    "            else:\n",
    "                warning('thumbnail-server.rb pid=%d running too long (%.1f mins > %.1f mins), killing' % (p.pid, age/60.0, maxAge/60.0))\n",
    "                try:\n",
    "                    p.kill()\n",
    "                except psutil.AccessDenied:\n",
    "                    error('Insufficient permission to kill chromdriver pid=%d' % p.pid)\n"
   ]
  },
  {
   "cell_type": "code",
   "execution_count": 24,
   "metadata": {},
   "outputs": [],
   "source": [
    "maxChromedriverCount = 20\n",
    "\n",
    "def checkChromedriver(p):\n",
    "    if p.ppid() == 1:\n",
    "        warning('Killing chromedriver pid=%d because process has no parent' % p.pid)\n",
    "        try:\n",
    "            p.kill()\n",
    "        except psutil.AccessDenied:\n",
    "            error('Insufficient permission to kill chromdriver pid=%d' % p.pid)\n",
    "    else:\n",
    "        parentName = psutil.Process(p.ppid()).name()\n",
    "        if parentName != 'ruby':\n",
    "            error('chromedriver pid=%d has unknown parent process pid=%d name=%s' % (p.pid, p.ppid(), parentName))\n",
    "\n",
    "def checkChromedrivers():\n",
    "    for p in psutil.process_iter():\n",
    "        if p.name() == 'chromedriver':\n",
    "            checkChromedriver(p)\n",
    "            \n",
    "    time.sleep(5) # wait for killed processes (if any) to die\n",
    "    \n",
    "    chromedriverCount = 0\n",
    "    for p in psutil.process_iter():\n",
    "        if p.name() == 'chromedriver':\n",
    "            chromedriverCount += 1\n",
    "    \n",
    "    if chromedriverCount > maxChromedriverCount:\n",
    "        error('%d chromedrivers running (test > %d)' % (chromedriverCount, maxChromedriverCount))\n"
   ]
  },
  {
   "cell_type": "code",
   "execution_count": 25,
   "metadata": {},
   "outputs": [],
   "source": [
    "def checkChrome(p):\n",
    "    if p.ppid() == 1 and '--headless' in ' '.join(p.cmdline()):\n",
    "        warning('Killing headless chrome pid=%d because process has no parent' % p.pid)\n",
    "        try:\n",
    "            p.kill()\n",
    "        except psutil.AccessDenied:\n",
    "            error('Insufficient permission to kill chrome pid=%d' % p.pid)\n",
    "        except psutil.NoSuchProcess:\n",
    "            warning('Chrome pid=%d cannot be killed because it no longer exists' % p.pid)\n",
    "\n",
    "def checkChromes():\n",
    "    for p in psutil.process_iter():\n",
    "        if p.name() == 'chrome':\n",
    "            checkChrome(p)"
   ]
  },
  {
   "cell_type": "code",
   "execution_count": null,
   "metadata": {},
   "outputs": [],
   "source": []
  },
  {
   "cell_type": "code",
   "execution_count": 26,
   "metadata": {},
   "outputs": [],
   "source": [
    "def checkAll():\n",
    "    clearErrors()\n",
    "    checkLoadAvgMax()\n",
    "    checkCPUMax()\n",
    "    checkDiskUsage()\n",
    "    checkCGIs()\n",
    "    checkChromedrivers()\n",
    "    checkChromes()\n",
    "    reportStatus()"
   ]
  },
  {
   "cell_type": "code",
   "execution_count": 27,
   "metadata": {},
   "outputs": [
    {
     "name": "stdout",
     "output_type": "stream",
     "text": [
      "Stat.log {\"service\": \"ThumbnailWorker\", \"level\": \"critical\", \"summary\": \"Load avg 122.4 (test > 50.0)\", \"host\": \"hal20\", \"details\": null, \"datetime\": \"2019-09-26T19:04:12.679324-04:00\", \"payload\": {}}\n",
      "Stat.log {\"service\": \"ThumbnailWorker\", \"level\": \"critical\", \"summary\": \"CPU usage 97% (test > 90%)\", \"host\": \"hal20\", \"details\": null, \"datetime\": \"2019-09-26T19:04:15.721996-04:00\", \"payload\": {}}\n",
      "Stat.log {\"service\": \"ThumbnailWorker\", \"level\": \"warning\", \"summary\": \"thumbnail-server.rb pid=12904 running too long (84.5 mins > 20.0 mins), killing\", \"host\": \"hal20\", \"details\": null, \"datetime\": \"2019-09-26T19:04:15.832945-04:00\", \"payload\": {}}\n",
      "Stat.log {\"service\": \"ThumbnailWorker\", \"level\": \"critical\", \"summary\": \"Insufficient permission to kill chromdriver pid=12904\", \"host\": \"hal20\", \"details\": null, \"datetime\": \"2019-09-26T19:04:15.874527-04:00\", \"payload\": {}}\n",
      "Stat.log {\"service\": \"ThumbnailWorker\", \"level\": \"warning\", \"summary\": \"thumbnail-server.rb pid=14098 running too long (46.0 mins > 20.0 mins), killing\", \"host\": \"hal20\", \"details\": null, \"datetime\": \"2019-09-26T19:04:15.933882-04:00\", \"payload\": {}}\n",
      "Stat.log {\"service\": \"ThumbnailWorker\", \"level\": \"critical\", \"summary\": \"Insufficient permission to kill chromdriver pid=14098\", \"host\": \"hal20\", \"details\": null, \"datetime\": \"2019-09-26T19:04:15.981086-04:00\", \"payload\": {}}\n",
      "Stat.log {\"service\": \"ThumbnailWorker\", \"level\": \"warning\", \"summary\": \"thumbnail-server.rb pid=15182 running too long (45.7 mins > 20.0 mins), killing\", \"host\": \"hal20\", \"details\": null, \"datetime\": \"2019-09-26T19:04:16.034476-04:00\", \"payload\": {}}\n",
      "Stat.log {\"service\": \"ThumbnailWorker\", \"level\": \"critical\", \"summary\": \"Insufficient permission to kill chromdriver pid=15182\", \"host\": \"hal20\", \"details\": null, \"datetime\": \"2019-09-26T19:04:16.079632-04:00\", \"payload\": {}}\n",
      "Stat.log {\"service\": \"ThumbnailWorker\", \"level\": \"warning\", \"summary\": \"thumbnail-server.rb pid=19309 running too long (52.4 mins > 20.0 mins), killing\", \"host\": \"hal20\", \"details\": null, \"datetime\": \"2019-09-26T19:04:16.133335-04:00\", \"payload\": {}}\n",
      "Stat.log {\"service\": \"ThumbnailWorker\", \"level\": \"critical\", \"summary\": \"Insufficient permission to kill chromdriver pid=19309\", \"host\": \"hal20\", \"details\": null, \"datetime\": \"2019-09-26T19:04:16.176348-04:00\", \"payload\": {}}\n",
      "Stat.log {\"service\": \"ThumbnailWorker\", \"level\": \"warning\", \"summary\": \"thumbnail-server.rb pid=22082 running too long (66.0 mins > 20.0 mins), killing\", \"host\": \"hal20\", \"details\": null, \"datetime\": \"2019-09-26T19:04:16.219642-04:00\", \"payload\": {}}\n",
      "Stat.log {\"service\": \"ThumbnailWorker\", \"level\": \"critical\", \"summary\": \"Insufficient permission to kill chromdriver pid=22082\", \"host\": \"hal20\", \"details\": null, \"datetime\": \"2019-09-26T19:04:16.259372-04:00\", \"payload\": {}}\n",
      "Stat.log {\"service\": \"ThumbnailWorker\", \"level\": \"warning\", \"summary\": \"thumbnail-server.rb pid=29203 running too long (72.4 mins > 20.0 mins), killing\", \"host\": \"hal20\", \"details\": null, \"datetime\": \"2019-09-26T19:04:16.317620-04:00\", \"payload\": {}}\n",
      "Stat.log {\"service\": \"ThumbnailWorker\", \"level\": \"critical\", \"summary\": \"Insufficient permission to kill chromdriver pid=29203\", \"host\": \"hal20\", \"details\": null, \"datetime\": \"2019-09-26T19:04:16.359495-04:00\", \"payload\": {}}\n",
      "Stat.log {\"service\": \"ThumbnailWorker\", \"level\": \"warning\", \"summary\": \"thumbnail-server.rb pid=30364 running too long (64.5 mins > 20.0 mins), killing\", \"host\": \"hal20\", \"details\": null, \"datetime\": \"2019-09-26T19:04:16.414370-04:00\", \"payload\": {}}\n",
      "Stat.log {\"service\": \"ThumbnailWorker\", \"level\": \"critical\", \"summary\": \"Insufficient permission to kill chromdriver pid=30364\", \"host\": \"hal20\", \"details\": null, \"datetime\": \"2019-09-26T19:04:16.457946-04:00\", \"payload\": {}}\n",
      "Stat.log {\"service\": \"ThumbnailWorker\", \"level\": \"warning\", \"summary\": \"thumbnail-server.rb pid=31177 running too long (25.7 mins > 20.0 mins), killing\", \"host\": \"hal20\", \"details\": null, \"datetime\": \"2019-09-26T19:04:16.549939-04:00\", \"payload\": {}}\n",
      "Stat.log {\"service\": \"ThumbnailWorker\", \"level\": \"critical\", \"summary\": \"Insufficient permission to kill chromdriver pid=31177\", \"host\": \"hal20\", \"details\": null, \"datetime\": \"2019-09-26T19:04:16.596317-04:00\", \"payload\": {}}\n",
      "Stat.log {\"service\": \"ThumbnailWorker\", \"level\": \"warning\", \"summary\": \"thumbnail-server.rb pid=31254 running too long (88.2 mins > 20.0 mins), killing\", \"host\": \"hal20\", \"details\": null, \"datetime\": \"2019-09-26T19:04:16.642135-04:00\", \"payload\": {}}\n",
      "Stat.log {\"service\": \"ThumbnailWorker\", \"level\": \"critical\", \"summary\": \"Insufficient permission to kill chromdriver pid=31254\", \"host\": \"hal20\", \"details\": null, \"datetime\": \"2019-09-26T19:04:16.686752-04:00\", \"payload\": {}}\n",
      "Stat.log {\"service\": \"ThumbnailWorker\", \"level\": \"critical\", \"summary\": \"36 chromedrivers running (test > 20)\", \"host\": \"hal20\", \"details\": null, \"datetime\": \"2019-09-26T19:04:22.048091-04:00\", \"payload\": {}}\n",
      "Stat.log {\"service\": \"ThumbnailWorker\", \"level\": \"down\", \"summary\": \"Failed 12 health checks\", \"host\": \"hal20\", \"details\": \"Load avg 122.4 (test > 50.0) | CPU usage 97% (test > 90%) | Insufficient permission to kill chromdriver pid=12904 | Insufficient permission to kill chromdriver pid=14098 | Insufficient permission to kill chromdriver pid=15182 | Insufficient permission to kill chromdriver pid=19309 | Insufficient permission to kill chromdriver pid=22082 | Insufficient permission to kill chromdriver pid=29203 | Insufficient permission to kill chromdriver pid=30364 | Insufficient permission to kill chromdriver pid=31177 | Insufficient permission to kill chromdriver pid=31254 | 36 chromedrivers running (test > 20)\", \"datetime\": \"2019-09-26T19:04:22.279768-04:00\", \"payload\": {}}\n",
      "sleep_until_next_period(60, 0) sleeping 37 seconds until 19:05:00\n"
     ]
    },
    {
     "ename": "KeyboardInterrupt",
     "evalue": "",
     "output_type": "error",
     "traceback": [
      "\u001b[0;31m\u001b[0m",
      "\u001b[0;31mKeyboardInterrupt\u001b[0mTraceback (most recent call last)",
      "\u001b[0;32m<ipython-input-27-55add2fa809c>\u001b[0m in \u001b[0;36m<module>\u001b[0;34m()\u001b[0m\n\u001b[1;32m      1\u001b[0m \u001b[0;32mwhile\u001b[0m \u001b[0mTrue\u001b[0m\u001b[0;34m:\u001b[0m\u001b[0;34m\u001b[0m\u001b[0m\n\u001b[1;32m      2\u001b[0m     \u001b[0mcheckAll\u001b[0m\u001b[0;34m(\u001b[0m\u001b[0;34m)\u001b[0m\u001b[0;34m\u001b[0m\u001b[0m\n\u001b[0;32m----> 3\u001b[0;31m     \u001b[0msleep_until_next_period\u001b[0m\u001b[0;34m(\u001b[0m\u001b[0;36m60\u001b[0m\u001b[0;34m)\u001b[0m\u001b[0;34m\u001b[0m\u001b[0m\n\u001b[0m",
      "\u001b[0;32m<string>\u001b[0m in \u001b[0;36msleep_until_next_period\u001b[0;34m(period, offset)\u001b[0m\n",
      "\u001b[0;31mKeyboardInterrupt\u001b[0m: "
     ]
    }
   ],
   "source": [
    "while True:\n",
    "    checkAll()    \n",
    "    sleep_until_next_period(60)"
   ]
  },
  {
   "cell_type": "code",
   "execution_count": null,
   "metadata": {},
   "outputs": [],
   "source": []
  }
 ],
 "metadata": {
  "kernelspec": {
   "display_name": "Python 2",
   "language": "python",
   "name": "python2"
  },
  "language_info": {
   "codemirror_mode": {
    "name": "ipython",
    "version": 2
   },
   "file_extension": ".py",
   "mimetype": "text/x-python",
   "name": "python",
   "nbconvert_exporter": "python",
   "pygments_lexer": "ipython2",
   "version": "2.7.15"
  }
 },
 "nbformat": 4,
 "nbformat_minor": 2
}
